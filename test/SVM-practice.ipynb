{
 "cells": [
  {
   "cell_type": "code",
   "execution_count": 150,
   "metadata": {},
   "outputs": [],
   "source": [
    "import numpy as np\n",
    "import pandas as pd\n",
    "import matplotlib.pyplot as plt\n",
    "%matplotlib inline"
   ]
  },
  {
   "cell_type": "code",
   "execution_count": 151,
   "metadata": {},
   "outputs": [],
   "source": [
    "\n",
    "def readData(filepath):\n",
    "    ds = pd.read_csv(filepath)\n",
    "    data = ds.values\n",
    "    xtrain = data[:,0:-1]\n",
    "    ytrain = data[:,-1]\n",
    "    \n",
    "    #print(xtrain.shape)\n",
    "    #print(ytrain.shape)\n",
    "    return xtrain,ytrain\n",
    "\n"
   ]
  },
  {
   "cell_type": "code",
   "execution_count": 152,
   "metadata": {},
   "outputs": [],
   "source": [
    "filepath = './mnist/train.csv'\n",
    "xtrain,ytrain = readData(filepath)\n"
   ]
  },
  {
   "cell_type": "code",
   "execution_count": 153,
   "metadata": {},
   "outputs": [
    {
     "data": {
      "text/plain": [
       "array([0, 3, 6, 4, 9, 4, 1, 2, 2, 8, 1, 9, 9, 3, 1, 1, 8, 2, 5, 5, 0, 9,\n",
       "       4, 2, 4, 5, 3, 2, 8, 5, 1, 1, 6, 9, 4, 4, 9, 0, 7, 4, 0, 4, 0, 9,\n",
       "       1, 8, 9, 0, 3, 5, 2, 8, 4, 9, 7, 1, 8, 6, 4, 9, 1, 5, 1, 1, 7, 6,\n",
       "       8, 3, 9, 6, 3, 0, 0, 1, 1, 0, 7, 5, 0, 6, 3, 8, 6, 4, 3, 0, 1, 6,\n",
       "       8, 0, 0, 3, 4, 5, 8, 9, 2, 4, 2, 5], dtype=int64)"
      ]
     },
     "execution_count": 153,
     "metadata": {},
     "output_type": "execute_result"
    }
   ],
   "source": [
    "ytrain[:100]"
   ]
  },
  {
   "cell_type": "code",
   "execution_count": 157,
   "metadata": {},
   "outputs": [
    {
     "name": "stdout",
     "output_type": "stream",
     "text": [
      "4\n",
      "784\n",
      "19999\n",
      "(19999, 784)\n"
     ]
    },
    {
     "data": {
      "image/png": "[encoded data removed]",
      "text/plain": [
       "<matplotlib.figure.Figure at 0xcbb4eb0>"
      ]
     },
     "metadata": {},
     "output_type": "display_data"
    }
   ],
   "source": [
    "def printImage(i,xtrain,ytrain):\n",
    "    \"\"\"Prints the i th row and label from dataset\n",
    "    Args:\n",
    "        Accepts an integer i, the row number\n",
    "    Outputs:\n",
    "        Image and Label\n",
    "    \"\"\"\n",
    "    image = xtrain[i]\n",
    "    label = ytrain[i]\n",
    "    \n",
    "    print(label)\n",
    "    img = image.reshape((28,28))\n",
    "    plt.figure(0)\n",
    "    plt.imshow(img,cmap='gray')\n",
    "    \n",
    "    \n",
    "printImage(3,xtrain,ytrain)\n",
    "\n",
    "# Normalize the Data\n",
    "xtrain = np.asarray(xtrain)\n",
    "xtrain = (xtrain-xtrain.mean(axis=0))/x.std()\n",
    "\n",
    "print(xtrain.shape)"
   ]
  },
  {
   "cell_type": "code",
   "execution_count": 198,
   "metadata": {},
   "outputs": [
    {
     "name": "stdout",
     "output_type": "stream",
     "text": [
      "[[0. 0. 0. ... 0. 0. 0.]\n",
      " [0. 0. 0. ... 0. 0. 0.]\n",
      " [0. 0. 0. ... 0. 0. 0.]\n",
      " ...\n",
      " [0. 0. 0. ... 0. 0. 0.]\n",
      " [0. 0. 0. ... 0. 0. 0.]\n",
      " [0. 0. 0. ... 0. 0. 0.]]\n"
     ]
    }
   ],
   "source": [
    "print(xtrain)"
   ]
  },
  {
   "cell_type": "code",
   "execution_count": 199,
   "metadata": {},
   "outputs": [
    {
     "name": "stdout",
     "output_type": "stream",
     "text": [
      "(19999, 784)\n"
     ]
    }
   ],
   "source": [
    "from random import randint\n",
    "\n",
    "x = np.asarray(xtrain)\n",
    "print(x.shape)\n"
   ]
  },
  {
   "cell_type": "code",
   "execution_count": 200,
   "metadata": {},
   "outputs": [],
   "source": [
    "class SVM:\n",
    "    \n",
    "    def __init__(self,C=1.0):\n",
    "        self.C = C\n",
    "        \n",
    "    def loss(w,x,y):\n",
    "        loss = 0.5*np.dot(w,w.T)\n",
    "        \n",
    "        for i in range(x.shape[0]):\n",
    "            ti = y[i]*(np.dot(w,x[i].T))\n",
    "            if ti!=0:\n",
    "                loss += self.C*(1-ti)\n",
    "        \n",
    "        return loss\n",
    "                \n",
    "    def solve(x,y,solver=\"Pegasos\",learning_rate=0.01):\n",
    "        if(solver==\"Pegasos\"):\n",
    "            no_of_features = x.shape[1]\n",
    "            no_of_samples = x.shape[0]\n",
    "            n = learning_rate\n",
    "            c = self.C\n",
    "            w = np.zeros((no_of_features,))\n",
    "            b = 0\n",
    "            \n",
    "            losses = []\n",
    "            \n",
    "            # Apply the Gradient Update Rule\n",
    "            for t in range(1000):\n",
    "                \n",
    "                i  = randint(0,no_of_samples)\n",
    "                ti = y[i]*(np.dot(w,x[i].T+b))\n",
    "                \n",
    "                l = loss(w,x,y)\n",
    "                losses.append(l)\n",
    "                \n",
    "                if ti>1:\n",
    "                    w = (1-n)*w\n",
    "                    b = b\n",
    "                else:\n",
    "                    w = w - n*w + n*c*y[i]*x[i]\n",
    "                    b = b + n*c*y[i]\n",
    "                    \n",
    "            return w,losses"
   ]
  },
  {
   "cell_type": "code",
   "execution_count": 201,
   "metadata": {},
   "outputs": [
    {
     "data": {
      "image/png": "[encoded data removed]",
      "text/plain": [
       "<matplotlib.figure.Figure at 0xe283dd0>"
      ]
     },
     "metadata": {},
     "output_type": "display_data"
    }
   ],
   "source": [
    "mean = [0, 0]\n",
    "cov = [[2, 0], [0, 2]]\n",
    "\n",
    "mean1 = [6, 10]\n",
    "cov1 = [[2, 0], [0, 3]]\n",
    "data1 = np.random.multivariate_normal(mean,cov,300)\n",
    "data2 = np.random.multivariate_normal(mean1,cov1,400)\n",
    "\n",
    "plt.scatter(data1[:,0],data1[:,1],color='blue')\n",
    "plt.scatter(data2[:,0],data2[:,1],color='green')\n",
    "\n",
    "plt.show()\n"
   ]
  },
  {
   "cell_type": "code",
   "execution_count": 202,
   "metadata": {},
   "outputs": [
    {
     "name": "stdout",
     "output_type": "stream",
     "text": [
      "(700, 2)\n"
     ]
    },
    {
     "data": {
      "image/png": "[encoded data removed]",
      "text/plain": [
       "<matplotlib.figure.Figure at 0x17f29f70>"
      ]
     },
     "metadata": {},
     "output_type": "display_data"
    },
    {
     "name": "stdout",
     "output_type": "stream",
     "text": [
      "(700,)\n"
     ]
    }
   ],
   "source": [
    "data = np.zeros((700,2))\n",
    "data[:300,:] = data1\n",
    "data[300:,:] = data2\n",
    "\n",
    "print(data.shape)\n",
    "plt.scatter(data[:,0],data[:,1])\n",
    "plt.show()\n",
    "\n",
    "labels = np.zeros((700,))\n",
    "labels[:300] = -1\n",
    "labels[300:] = 1\n",
    "\n",
    "print(labels.shape)\n",
    " #ti = y[i]*(np.dot(w,x[i].T))"
   ]
  },
  {
   "cell_type": "code",
   "execution_count": 144,
   "metadata": {},
   "outputs": [],
   "source": [
    "svm = SVM()\n",
    "#w,losses = svm.solve(data,labels)"
   ]
  },
  {
   "cell_type": "code",
   "execution_count": 158,
   "metadata": {},
   "outputs": [],
   "source": [
    "from sklearn import svm"
   ]
  },
  {
   "cell_type": "code",
   "execution_count": 205,
   "metadata": {},
   "outputs": [
    {
     "name": "stdout",
     "output_type": "stream",
     "text": [
      "[-1.  1.]\n",
      "0.5111226225986361\n"
     ]
    }
   ],
   "source": [
    "cf1 = svm.SVC(kernel='linear')\n",
    "cf1.fit(data, labels)\n",
    "w = cf1.coef_\n",
    "b = cf1.intercept_\n",
    "\n",
    "\n",
    "print(cf1.classes_)\n",
    "#print(cf1.score(data,labels))\n",
    "print(w[0][0])\n"
   ]
  },
  {
   "cell_type": "code",
   "execution_count": 204,
   "metadata": {},
   "outputs": [
    {
     "data": {
      "image/png": "[encoded data removed]",
      "text/plain": [
       "<matplotlib.figure.Figure at 0xe227b30>"
      ]
     },
     "metadata": {},
     "output_type": "display_data"
    },
    {
     "name": "stdout",
     "output_type": "stream",
     "text": [
      "[10.91766345 10.28458489  9.65150633  9.01842777  8.38534921  7.75227065\n",
      "  7.11919209  6.48611353  5.85303497  5.21995642  4.58687786  3.9537993\n",
      "  3.32072074  2.68764218  2.05456362  1.42148506  0.7884065   0.15532794\n",
      " -0.47775062 -1.11082918]\n"
     ]
    }
   ],
   "source": [
    "xt = np.linspace(-5,10,20)\n",
    "yt = -(w[0,0]*xt + b)/w[0,1]\n",
    "\n",
    "plt.scatter(data1[:,0],data1[:,1],color='blue')\n",
    "plt.scatter(data2[:,0],data2[:,1],color='green')\n",
    "\n",
    "#plt.scatter(data[:,0],data[:,1])\n",
    "plt.plot(xt,yt)\n",
    "plt.show()\n",
    "print(yt)"
   ]
  },
  {
   "cell_type": "code",
   "execution_count": null,
   "metadata": {},
   "outputs": [],
   "source": [
    "\n"
   ]
  }
 ],
 "metadata": {
  "kernelspec": {
   "display_name": "Python 3",
   "language": "python",
   "name": "python3"
  },
  "language_info": {
   "codemirror_mode": {
    "name": "ipython",
    "version": 3
   },
   "file_extension": ".py",
   "mimetype": "text/x-python",
   "name": "python",
   "nbconvert_exporter": "python",
   "pygments_lexer": "ipython3",
   "version": "3.6.4"
  }
 },
 "nbformat": 4,
 "nbformat_minor": 2
}
